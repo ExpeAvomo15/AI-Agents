{
 "cells": [
  {
   "cell_type": "code",
   "execution_count": null,
   "id": "fc716c7d",
   "metadata": {},
   "outputs": [],
   "source": [
    "# Import all the libraries we need for our AI agents project\n",
    "# Importamos todas las librerías que necesitamos para nuestro proyecto de agentes de IA\n",
    "from dotenv import load_dotenv  # To load secret keys from .env file / Para cargar claves secretas del archivo .env\n",
    "from openai import AsyncOpenAI  # To connect to OpenAI API / Para conectar con la API de OpenAI\n",
    "from agents import Agent, Runner, trace, function_tool, OpenAIChatCompletionsModel, input_guardrail, GuardrailFunctionOutput  # AI agent tools / Herramientas para agentes de IA\n",
    "import asyncio  # To run multiple tasks at the same time / Para ejecutar múltiples tareas al mismo tiempo\n",
    "from typing import Dict  # For type hints / Para indicar tipos de datos\n",
    "import sendgrid  # To send emails / Para enviar correos electrónicos\n",
    "import os  # To access system variables / Para acceder a variables del sistema\n",
    "from sendgrid.helpers.mail import Mail, Email, To, Content  # Email helpers / Ayudantes para correos\n",
    "from pydantic import BaseModel  # To create data models / Para crear modelos de datos"
   ]
  },
  {
   "cell_type": "code",
   "execution_count": null,
   "id": "918ff8ac",
   "metadata": {},
   "outputs": [],
   "source": [
    "# Load environment variables from .env file (override any existing ones)\n",
    "# Cargamos las variables de entorno desde el archivo .env (sobrescribiendo las existentes)\n",
    "load_dotenv(override=True)"
   ]
  },
  {
   "cell_type": "code",
   "execution_count": null,
   "id": "4a8932a6",
   "metadata": {},
   "outputs": [],
   "source": [
    "# Check if our API keys are properly loaded\n",
    "# Verificamos si nuestras claves de API están cargadas correctamente\n",
    "\n",
    "openai_api_key = os.getenv(\"OPENAI_API_KEY\")  # Get OpenAI key / Obtener clave de OpenAI\n",
    "openrouter_api_key = os.getenv(\"OPENROUTER_API_KEY\")  # Get OpenRouter key / Obtener clave de OpenRouter\n",
    "openrouter_base_url = os.getenv(\"OPENROUTER_BASE_URL\")  # Get OpenRouter URL / Obtener URL de OpenRouter\n",
    "\n",
    "# Print first 8 characters of each key to verify they're loaded (security practice)\n",
    "# Imprimimos los primeros 8 caracteres de cada clave para verificar que están cargadas (práctica de seguridad)\n",
    "if openai_api_key:\n",
    "    print(f\"openai api key exits an begins with: {openai_api_key[:8]}\")\n",
    "else:\n",
    "    print(\"OpenAI api key not set\")\n",
    "\n",
    "if openrouter_api_key:\n",
    "    print(f\"open Router api key exits an begins with: {openrouter_api_key[:8]}\")\n",
    "else:\n",
    "    print(\"Open Router api key not set\")\n",
    "\n",
    "if openrouter_base_url:\n",
    "    print(f\"open Router base url exits and is: {openrouter_base_url}\")\n",
    "else:\n",
    "    print(\"Open Router api key not set\")"
   ]
  },
  {
   "cell_type": "code",
   "execution_count": null,
   "id": "32adfb79",
   "metadata": {},
   "outputs": [],
   "source": [
    "# Create different personalities for our sales agents\n",
    "# Creamos diferentes personalidades para nuestros agentes de ventas\n",
    "\n",
    "# Professional and serious sales agent / Agente de ventas profesional y serio\n",
    "instructions1 = \"Eres un agente comercial que trabaja para Avomo Innovations, \\\n",
    "una startup que desarrolla agentes de inteligencia artificial especializados en ciberseguridad. \\\n",
    "Escribes correos fríos profesionales y serios.\"\n",
    "\n",
    "# Funny and engaging sales agent / Agente de ventas divertido y cautivador\n",
    "instructions2 = \"Eres un agente comercial con sentido del humor y estilo cautivador que trabaja para Avomo Innovations, \\\n",
    "una startup que desarrolla agentes de inteligencia artificial especializados en ciberseguridad. \\\n",
    "Escribes correos fríos ingeniosos y atractivos que probablemente obtendrán una respuesta.\"\n",
    "\n",
    "# Busy and direct sales agent / Agente de ventas ocupado y directo\n",
    "instructions3 = \"Eres un agente comercial muy ocupado que trabaja para Avomo Innovations, \\\n",
    "una startup que desarrolla agentes de inteligencia artificial especializados en ciberseguridad. \\\n",
    "Escribes correos fríos breves y directos al grano.\""
   ]
  },
  {
   "cell_type": "code",
   "execution_count": null,
   "id": "bb5bf9e7",
   "metadata": {},
   "outputs": [],
   "source": [
    "# Set up different AI models using OpenRouter (a service that gives access to multiple AI models)\n",
    "# Configuramos diferentes modelos de IA usando OpenRouter (un servicio que da acceso a múltiples modelos de IA)\n",
    "\n",
    "# Create OpenAI client using OpenRouter endpoint / Creamos cliente OpenAI usando el endpoint de OpenRouter\n",
    "openRouter_client = AsyncOpenAI(api_key=openrouter_api_key, base_url=openrouter_base_url)\n",
    "\n",
    "# Create two different AI models / Creamos dos modelos de IA diferentes\n",
    "deepseek_model = OpenAIChatCompletionsModel(model=\"deepseek/deepseek-r1-0528:free\", openai_client=openRouter_client)  # DeepSeek model\n",
    "llama_model = OpenAIChatCompletionsModel(model=\"meta-llama/llama-3.2-3b-instruct:free\", openai_client=openRouter_client)  # Llama model"
   ]
  },
  {
   "cell_type": "code",
   "execution_count": null,
   "id": "9cdd04c9",
   "metadata": {},
   "outputs": [],
   "source": [
    "# Create three different sales agents with different personalities and AI models\n",
    "# Creamos tres agentes de ventas diferentes con distintas personalidades y modelos de IA\n",
    "\n",
    "sales_agent1 = Agent(name=\"OpenAI sales agent\", instructions=instructions1, model=\"gpt-4o-mini\")  # Professional agent using GPT-4\n",
    "sales_agent2 = Agent(name=\"Deepseek sales agent\", instructions=instructions2, model=deepseek_model)  # Funny agent using DeepSeek\n",
    "sales_agent3 = Agent(name=\"Llama sale agent\", instructions=instructions3, model=llama_model)  # Direct agent using Llama\n",
    "\n",
    "message = \"Envia un email de venta en frio\"  # The task we want all agents to do / La tarea que queremos que hagan todos los agentes\n",
    "\n",
    "# Run all three agents at the same time and collect their results\n",
    "# Ejecutamos los tres agentes al mismo tiempo y recolectamos sus resultados\n",
    "with trace(\"tutorial - Modelos diferentes en paralelo\"):  # Track this operation for debugging\n",
    "    results = await asyncio.gather(  # Run multiple tasks simultaneously / Ejecutar múltiples tareas simultáneamente\n",
    "        Runner.run(sales_agent1, message),\n",
    "        Runner.run(sales_agent2, message),\n",
    "        Runner.run(sales_agent3, message),\n",
    "    )\n",
    "\n",
    "    # Extract the final output from each agent / Extraemos la salida final de cada agente\n",
    "    outputs = [result.final_output for result in results]\n",
    "\n",
    "    # Print each agent's email / Imprimimos el email de cada agente\n",
    "    for output in outputs:\n",
    "        print(output + \"\\n\\n\")"
   ]
  },
  {
   "cell_type": "markdown",
   "id": "5b0a9267",
   "metadata": {},
   "source": [
    "No olvides chequear: https://platform.openai.com/logs?api=traces"
   ]
  },
  {
   "cell_type": "code",
   "execution_count": null,
   "id": "d68b30a1",
   "metadata": {},
   "outputs": [],
   "source": [
    "# Convert our agents into tools that other agents can use\n",
    "# Convertimos nuestros agentes en herramientas que otros agentes pueden usar\n",
    "\n",
    "description = \"Escribe un email de venta en frío\"  # What each tool does / Qué hace cada herramienta\n",
    "\n",
    "# Create tools from our agents / Creamos herramientas a partir de nuestros agentes\n",
    "tool1 = sales_agent1.as_tool(tool_name=\"sales_agent1\", tool_description=description)\n",
    "tool2 = sales_agent2.as_tool(tool_name=\"sales_agent2\", tool_description=description)\n",
    "tool3 = sales_agent3.as_tool(tool_name=\"sales_agent3\", tool_description=description)\n",
    "\n",
    "tools = [tool1, tool2, tool3]  # Put all tools in a list / Ponemos todas las herramientas en una lista\n",
    "\n",
    "tools"
   ]
  },
  {
   "cell_type": "code",
   "execution_count": null,
   "id": "ea58a278",
   "metadata": {},
   "outputs": [],
   "source": [
    "# Create a function to send emails using SendGrid service\n",
    "# Creamos una función para enviar emails usando el servicio SendGrid\n",
    "\n",
    "@function_tool  # This decorator turns our function into a tool that agents can use / Este decorador convierte nuestra función en una herramienta que los agentes pueden usar\n",
    "def send_html_email(subject: str, html_body: str) -> Dict[str, str]:\n",
    "    \"\"\" Send out an email with the given subject and HTML body to all sales prospects \"\"\"\n",
    "    # Set up SendGrid client / Configuramos el cliente de SendGrid\n",
    "    sg = sendgrid.SendGridAPIClient(api_key=os.environ.get('SENDGRID_API_KEY'))\n",
    "    from_email = Email(\"testingavomo@gamil.com\")  # Sender email / Email del remitente\n",
    "    to_email = To(\"contactola24podcast@gmail.com\")  # Recipient email / Email del destinatario\n",
    "    content = Content(\"text/html\", html_body)  # Email content in HTML format / Contenido del email en formato HTML\n",
    "    mail = Mail(from_email, to_email, subject, content).get()  # Create the email / Creamos el email\n",
    "    sg.client.mail.send.post(request_body=mail)  # Send the email / Enviamos el email\n",
    "    return {\"status\": \"success\"}  # Return success message / Devolvemos mensaje de éxito"
   ]
  },
  {
   "cell_type": "code",
   "execution_count": null,
   "id": "1dc2d6fa",
   "metadata": {},
   "outputs": [],
   "source": [
    "# Create specialized agents for email formatting\n",
    "# Creamos agentes especializados para formatear emails\n",
    "\n",
    "# Agent that writes email subjects / Agente que escribe asuntos de email\n",
    "subject_instructions = \"Puedes redactar un asunto para un correo de ventas en frío. \\\n",
    "Se te proporciona un mensaje y debes escribir un asunto para un correo que tenga altas probabilidades de obtener una respuesta.\"\n",
    "\n",
    "# Agent that converts text to HTML / Agente que convierte texto a HTML\n",
    "html_instructions = \"Puedes convertir el cuerpo de un correo de texto en un cuerpo de correo en HTML. \\\n",
    "Se te proporciona un cuerpo de correo en texto plano, que podría incluir algo de markdown, \\\n",
    "y debes transformarlo en un cuerpo HTML con un diseño claro, simple y atractivo.\"\n",
    "\n",
    "# Create the specialized agents / Creamos los agentes especializados\n",
    "subject_writer = Agent(name=\"Email Subject Writer\", instructions=subject_instructions, model=\"gpt-4o-mini\")\n",
    "subject_tool = subject_writer.as_tool(tool_name=\"sbject_writer\", tool_description=\"Escribe un asunto para un email de veta e frío\")\n",
    "\n",
    "html_converter = Agent(name=\"HTML email body converter\", instructions=html_instructions, model=\"gpt-4o-mini\")\n",
    "html_tool = html_converter.as_tool(tool_name=\"html_converter\",tool_description=\"conviertes el cuerpo del mensaje del email en un cuerpo de email en HTML \")"
   ]
  },
  {
   "cell_type": "code",
   "execution_count": null,
   "id": "aaf561ae",
   "metadata": {},
   "outputs": [],
   "source": [
    "# Group all email-related tools together\n",
    "# Agrupamos todas las herramientas relacionadas con email\n",
    "email_tools = [subject_tool, html_tool, send_html_email]\n",
    "email_tools"
   ]
  },
  {
   "cell_type": "code",
   "execution_count": null,
   "id": "2c8e70a4",
   "metadata": {},
   "outputs": [],
   "source": [
    "# Create an agent that manages the entire email sending process\n",
    "# Creamos un agente que gestiona todo el proceso de envío de emails\n",
    "\n",
    "instructions = \"Eres un formateador y remitente de correos electrónicos. Recibes el cuerpo de un correo que debe ser enviado. \\\n",
    "Primero utilizas la herramienta subject_writer para redactar el asunto del correo, luego usas la herramienta html_converter para convertir el cuerpo a formato HTML. \\\n",
    "Finalmente, usas la herramienta send_html_email para enviar el correo con el asunto y el cuerpo en HTML.\"\n",
    "\n",
    "# Create the email manager agent with handoff capability\n",
    "# Creamos el agente gestor de emails con capacidad de transferencia\n",
    "emailer_agent = Agent(name=\"Email manager\", \n",
    "instructions=instructions, \n",
    "handoff_description= \"Convierte un email en html y lo envia\",  # Description for handoff / Descripción para transferencia\n",
    "model=\"gpt-4o-mini\")"
   ]
  },
  {
   "cell_type": "code",
   "execution_count": null,
   "id": "400f8d92",
   "metadata": {},
   "outputs": [],
   "source": [
    "# Organize our tools and agents for the main sales manager\n",
    "# Organizamos nuestras herramientas y agentes para el gerente de ventas principal\n",
    "tools = [tool1, tool2, tool3]  # Sales agent tools / Herramientas de agentes de ventas\n",
    "handoffs = [emailer_agent]  # Agents we can hand off to / Agentes a los que podemos transferir trabajo\n",
    "\n",
    "print(tools)\n",
    "print(handoffs)"
   ]
  },
  {
   "cell_type": "code",
   "execution_count": null,
   "id": "bf3a02b7",
   "metadata": {},
   "outputs": [],
   "source": [
    "# Create the main sales manager that orchestrates everything\n",
    "# Creamos el gerente de ventas principal que orquesta todo\n",
    "\n",
    "sales_manager_instructions = \"\"\"\n",
    "Eres el Responsable de Ventas en Avomo Innovations. Tu objetivo es encontrar el mejor correo de ventas en frío utilizando las herramientas de los agentes de ventas.\n",
    "\n",
    "Sigue estos pasos cuidadosamente:\n",
    "1. Genera borradores: Usa las tres herramientas de agentes de ventas para generar tres borradores diferentes de correo. No continúes hasta tener los tres listos.\n",
    "\n",
    "2. Evalúa y selecciona: Revisa los borradores y elige el único correo que consideres más efectivo. \n",
    "Puedes usar las herramientas varias veces si no estás satisfecho con los resultados iniciales.\n",
    "\n",
    "3. Delegación para envío: Entrega SOLO el correo ganador al agente \"Gestor de Correos\". Este se encargará del formateo y envío.\n",
    "\n",
    "Reglas cruciales:\n",
    "- Debes usar las herramientas de los agentes de ventas para generar los borradores — no los escribas tú mismo.\n",
    "- Debes entregar exactamente UN solo correo al Gestor de Correos — nunca más de uno.\n",
    "\"\"\"\n",
    "\n",
    "# Create the main sales manager agent / Creamos el agente gerente de ventas principal\n",
    "sales_manager = Agent (name=\"Sales Manager\", instructions=sales_manager_instructions, tools=tools, handoffs=handoffs, model=\"gpt-4o-mini\")\n",
    "\n",
    "# Run the sales manager with tracing for debugging\n",
    "# Ejecutamos el gerente de ventas con trazado para debugging\n",
    "with trace(\"Sales Manager\"):\n",
    "    result = await Runner.run(sales_manager, \"Envia un email de venta en frio\")\n",
    "    print(result.final_output)"
   ]
  },
  {
   "cell_type": "code",
   "execution_count": null,
   "id": "24aa5a1b",
   "metadata": {},
   "outputs": [],
   "source": [
    "# Create a security system to prevent agents from using personal names inappropriately\n",
    "# Creamos un sistema de seguridad para evitar que los agentes usen nombres personales inapropiadamente\n",
    "\n",
    "# Define what information our security check should return\n",
    "# Definimos qué información debe devolver nuestra verificación de seguridad\n",
    "class NameCheckOutput (BaseModel):\n",
    "    is_name_in_message : bool  # Whether a name was found / Si se encontró un nombre\n",
    "    name: str  # The name that was found / El nombre que se encontró\n",
    "\n",
    "# Create an agent that checks for personal names in messages\n",
    "# Creamos un agente que verifica nombres personales en los mensajes\n",
    "guardrail_agent = Agent (\n",
    "    name = \"Name check\",\n",
    "    instructions=\"Comprueba si el usuario está incluyendo el nombre personal de alguien en lo que quiere que hagas.\",\n",
    "    output_type=NameCheckOutput,  # Force structured output / Forzamos salida estructurada\n",
    "    model = \"gpt-4o-mini\"\n",
    ")"
   ]
  },
  {
   "cell_type": "code",
   "execution_count": null,
   "id": "a3e77514",
   "metadata": {},
   "outputs": [],
   "source": [
    "# Create a security guard function that blocks inappropriate requests\n",
    "# Creamos una función de guardia de seguridad que bloquea solicitudes inapropiadas\n",
    "\n",
    "@input_guardrail  # This decorator makes this function act as a security check / Este decorador hace que esta función actúe como verificación de seguridad\n",
    "async def guardrail_against_name(ctx, agent, message):\n",
    "    # Run our name-checking agent / Ejecutamos nuestro agente verificador de nombres\n",
    "    result = await Runner.run(guardrail_agent, message, context=ctx.context)\n",
    "    is_name_in_message = result.final_output.is_name_in_message\n",
    "    # If a name is found, trigger the security block / Si se encuentra un nombre, activamos el bloqueo de seguridad\n",
    "    return GuardrailFunctionOutput(output_info={\"found_name\": result.final_output},tripwire_triggered=is_name_in_message)"
   ]
  },
  {
   "cell_type": "code",
   "execution_count": null,
   "id": "9e1a8a40",
   "metadata": {},
   "outputs": [],
   "source": [
    "# Create a protected version of our sales manager with security checks\n",
    "# Creamos una versión protegida de nuestro gerente de ventas con verificaciones de seguridad\n",
    "\n",
    "careful_sales_manager = Agent(\n",
    "    name=\"Sales Manager\",\n",
    "    instructions=sales_manager_instructions,\n",
    "    tools=tools,\n",
    "    handoffs=handoffs,\n",
    "    model=\"gpt-4o-mini\",\n",
    "    input_guardrails=[guardrail_against_name]  # Add our security check / Añadimos nuestra verificación de seguridad\n",
    ")\n",
    "\n",
    "# Try to run with a message that contains a personal name (this should be blocked)\n",
    "# Intentamos ejecutar con un mensaje que contiene un nombre personal (esto debería bloquearse)\n",
    "message = \"Escribe un email de venta en frio para 'Querido CEO' enviado por Expe Avomo\"\n",
    "\n",
    "with trace(\"Best Sales Email\"):\n",
    "    result = await Runner.run(careful_sales_manager, message)"
   ]
  }
 ],
 "metadata": {
  "kernelspec": {
   "display_name": ".venv",
   "language": "python",
   "name": "python3"
  },
  "language_info": {
   "codemirror_mode": {
    "name": "ipython",
    "version": 3
   },
   "file_extension": ".py",
   "mimetype": "text/x-python",
   "name": "python",
   "nbconvert_exporter": "python",
   "pygments_lexer": "ipython3",
   "version": "3.12.11"
  }
 },
 "nbformat": 4,
 "nbformat_minor": 5
}